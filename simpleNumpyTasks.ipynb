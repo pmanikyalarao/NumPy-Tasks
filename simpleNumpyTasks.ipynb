{
 "cells": [
  {
   "cell_type": "code",
   "execution_count": null,
   "metadata": {},
   "outputs": [],
   "source": [
    "import numpy as np"
   ]
  },
  {
   "cell_type": "code",
   "execution_count": 5,
   "metadata": {},
   "outputs": [
    {
     "name": "stdout",
     "output_type": "stream",
     "text": [
      "[0 1 2 3 4 5 6 7 8 9]\n"
     ]
    }
   ],
   "source": [
    "#1.How do you create a 1D array of integers from 0 to 9 using NumPy?\n",
    "arr = np.array([0,1,2,3,4,5,6,7,8,9])\n",
    "print(arr)"
   ]
  },
  {
   "cell_type": "code",
   "execution_count": 4,
   "metadata": {},
   "outputs": [
    {
     "name": "stdout",
     "output_type": "stream",
     "text": [
      "[[0 0 0]\n",
      " [0 0 0]\n",
      " [0 0 0]]\n"
     ]
    }
   ],
   "source": [
    "#2.How do you create a 3x3 matrix filled with zeros?\n",
    "arr = np.zeros((3,3),dtype=int)\n",
    "print(arr)"
   ]
  },
  {
   "cell_type": "code",
   "execution_count": 6,
   "metadata": {},
   "outputs": [
    {
     "name": "stdout",
     "output_type": "stream",
     "text": [
      "[0.49021725 0.51873932 0.1637401  0.04437269 0.12947416 0.14152169\n",
      " 0.35938811 0.29771978 0.90586235 0.51924324]\n"
     ]
    }
   ],
   "source": [
    "#3.How can you generate an array of 10 random numbers between 0 and 1?\n",
    "arr = np.random.rand(10)\n",
    "print(arr)"
   ]
  },
  {
   "cell_type": "code",
   "execution_count": 15,
   "metadata": {},
   "outputs": [
    {
     "name": "stdout",
     "output_type": "stream",
     "text": [
      "[ 1  2  3  4  5  6  7  8  9 10 11 12] , size -  12 , Dimenstion - 1D\n",
      "3X4 2D array : \n",
      "[[ 1  2  3  4]\n",
      " [ 5  6  7  8]\n",
      " [ 9 10 11 12]]\n"
     ]
    }
   ],
   "source": [
    "#4.How can you reshape a 1D array of 12 elements into a 3x4 2D array?\n",
    "arr = np.arange(1,13)\n",
    "print(arr,\", size - \",arr.size,\", Dimenstion -\",str(arr.ndim)+\"D\")\n",
    "newarr = arr.reshape(3,4)\n",
    "print(\"3X4 2D array : \")\n",
    "print(newarr)\n"
   ]
  },
  {
   "cell_type": "code",
   "execution_count": 17,
   "metadata": {},
   "outputs": [
    {
     "name": "stdout",
     "output_type": "stream",
     "text": [
      "[[3]\n",
      " [6]\n",
      " [9]]\n"
     ]
    }
   ],
   "source": [
    "#5.How do you extract the third column from the following 2D array?\n",
    "#arr = np.array([[1, 2, 3], [4, 5, 6], [7, 8, 9]])\n",
    "arr = np.array([[1,2,3],[4,5,6],[7,8,9]])\n",
    "print(arr[:,2:3])"
   ]
  },
  {
   "cell_type": "code",
   "execution_count": 23,
   "metadata": {},
   "outputs": [
    {
     "name": "stdout",
     "output_type": "stream",
     "text": [
      "[[1 2 3]\n",
      " [4 5 6]\n",
      " [7 8 9]]\n",
      "Shape :  (3, 3)\n",
      "Size :  9\n"
     ]
    }
   ],
   "source": [
    "#6.What is the difference between .shape and .size in NumPy?\n",
    "#.shape relates to the size of the dimensions of an N-dimensional array.\n",
    "#.size relates to the no.of elements in the array.\n",
    "arr = np.array([[1,2,3],[4,5,6],[7,8,9]])\n",
    "print(arr)\n",
    "print(\"Shape : \",np.shape(arr))\n",
    "print(\"Size : \",arr.size)"
   ]
  },
  {
   "cell_type": "code",
   "execution_count": 29,
   "metadata": {},
   "outputs": [
    {
     "name": "stdout",
     "output_type": "stream",
     "text": [
      "[4 7 1 8 3 9]\n",
      "Min :  1\n",
      "Maximum :  9\n",
      "Mean :  5.333333333333333\n"
     ]
    }
   ],
   "source": [
    "#7.Write a program to find the minimum, maximum, and mean of the array\n",
    "#arr = np.array([4, 7, 1, 8, 3, 9])\n",
    "arr = np.array([4, 7, 1, 8, 3, 9])\n",
    "print(arr)\n",
    "print(\"Min : \",arr.min())\n",
    "print(\"Maximum : \",arr.max())\n",
    "print(\"Mean : \",arr.mean())"
   ]
  },
  {
   "cell_type": "code",
   "execution_count": 31,
   "metadata": {},
   "outputs": [
    {
     "name": "stdout",
     "output_type": "stream",
     "text": [
      "[ 1  2  3  4  5  6  7  8  9 10]\n",
      "After adding 5 to the array :  [ 6  7  8  9 10 11 12 13 14 15]\n"
     ]
    }
   ],
   "source": [
    "#8.How can you add 5 to every element of a NumPy array?\n",
    "arr = np.arange(1,11)\n",
    "print(arr)\n",
    "print(\"After adding 5 to the array : \",arr+5)"
   ]
  },
  {
   "cell_type": "code",
   "execution_count": 36,
   "metadata": {},
   "outputs": [
    {
     "name": "stdout",
     "output_type": "stream",
     "text": [
      "[[1 3]\n",
      " [2 4]]\n",
      "\n",
      "[[5 7]\n",
      " [6 8]]\n",
      "\n",
      "Elements-wise sum :  [[ 6 10]\n",
      " [ 8 12]]\n",
      "Dot product :  [[23 31]\n",
      " [34 46]]\n"
     ]
    }
   ],
   "source": [
    "#9.How do you compute their element-wise sum and dot product?\n",
    "arr1 = np.array([[1, 3],\n",
    "              [2, 4]])\n",
    "arr2 = np.array([[5, 7],\n",
    "              [6, 8]])\n",
    "print(arr1,end=\"\\n\\n\")\n",
    "print(arr2)\n",
    "print()\n",
    "print(\"Elements-wise sum : \",arr1+arr2)\n",
    "print(\"Dot product : \",np.dot(arr1,arr2))\n"
   ]
  },
  {
   "cell_type": "code",
   "execution_count": 50,
   "metadata": {},
   "outputs": [
    {
     "name": "stdout",
     "output_type": "stream",
     "text": [
      "[ 1 -2  3 -4  5 -6  7]\n",
      "After modification :  [1 0 3 0 5 0 7]\n"
     ]
    }
   ],
   "source": [
    "#10.How can you replace all negative values in an array with 0?\n",
    "arr = np.array([1, -2, 3, -4, 5, -6, 7])\n",
    "print(arr)\n",
    "#using where\n",
    "# arr[np.where(arr<0)] = 0\n",
    "#normal\n",
    "arr[arr<0] = 0\n",
    "print(\"After modification : \",arr)"
   ]
  },
  {
   "cell_type": "code",
   "execution_count": 54,
   "metadata": {},
   "outputs": [
    {
     "name": "stdout",
     "output_type": "stream",
     "text": [
      "[10 15 20 25 30]\n",
      "(array([0, 2, 4], dtype=int64),)\n"
     ]
    }
   ],
   "source": [
    "#11.How can you find the indices of all even numbers in the following array?\n",
    "#arr = np.array([10, 15, 20, 25, 30])\n",
    "arr = np.array([10,15,20,25,30])\n",
    "print(arr)\n",
    "print(np.where(arr%2==0))"
   ]
  },
  {
   "cell_type": "code",
   "execution_count": 61,
   "metadata": {},
   "outputs": [
    {
     "name": "stdout",
     "output_type": "stream",
     "text": [
      "[[1 3]\n",
      " [2 4]\n",
      " [5 7]\n",
      " [6 8]]\n"
     ]
    }
   ],
   "source": [
    "#12.Write a program to concatenate two 2D arrays along the rows.\n",
    "arr1 = np.array([[1, 3],\n",
    "              [2, 4]])\n",
    "arr2 = np.array([[5, 7],\n",
    "              [6, 8]])\n",
    "print(np.concatenate((arr1,arr2),axis=0))"
   ]
  },
  {
   "cell_type": "code",
   "execution_count": 68,
   "metadata": {},
   "outputs": [
    {
     "name": "stdout",
     "output_type": "stream",
     "text": [
      "[[95  1 71 93]\n",
      " [81 91 14 52]\n",
      " [48 36 65 82]\n",
      " [55 51 11 58]]\n",
      "\n",
      "Tanspose : \n",
      "\n",
      "[[95 81 48 55]\n",
      " [ 1 91 36 51]\n",
      " [71 14 65 11]\n",
      " [93 52 82 58]]\n"
     ]
    }
   ],
   "source": [
    "#13.How do you generate a 4x4 matrix of random integers between 1 and 100, and find its transpose?\n",
    "arr = np.random.randint(1,101,(4,4))\n",
    "print(arr,end=\"\\n\\n\")\n",
    "print(\"Tanspose : \",end=\"\\n\\n\")\n",
    "print(arr.T)\n",
    "# print(arr.swapaxes(0,1))"
   ]
  },
  {
   "cell_type": "code",
   "execution_count": 89,
   "metadata": {},
   "outputs": [
    {
     "name": "stdout",
     "output_type": "stream",
     "text": [
      "[[1 2 3]\n",
      " [4 5 6]\n",
      " [7 8 9]]\n",
      "\n",
      "Normalized array : \n",
      "[[0.    0.125 0.25 ]\n",
      " [0.375 0.5   0.625]\n",
      " [0.75  0.875 1.   ]]\n"
     ]
    }
   ],
   "source": [
    "#14.Given a 3x3 array, write a NumPy program to normalize its values so that they range between 0 and 1.\n",
    "#Normalization formula : (arr-arr.min())/(arr.max()-arr.min())\n",
    "arr = np.arange(1,10).reshape(3,3)\n",
    "print(arr,end=\"\\n\\n\")\n",
    "print(\"Normalized array : \")\n",
    "print((arr-arr.min())/(arr.max()-arr.min()))\n"
   ]
  },
  {
   "cell_type": "code",
   "execution_count": 91,
   "metadata": {},
   "outputs": [
    {
     "name": "stdout",
     "output_type": "stream",
     "text": [
      "[6 7 8 9]\n"
     ]
    }
   ],
   "source": [
    "#15.Write a program to filter the values in an array based on a condition (e.g., values greater than 5).\n",
    "arr = np.array([[1,2,3],\n",
    "                [4,5,6],\n",
    "                [7,8,9]])\n",
    "print(arr[arr>5])"
   ]
  }
 ],
 "metadata": {
  "kernelspec": {
   "display_name": "Python 3",
   "language": "python",
   "name": "python3"
  },
  "language_info": {
   "codemirror_mode": {
    "name": "ipython",
    "version": 3
   },
   "file_extension": ".py",
   "mimetype": "text/x-python",
   "name": "python",
   "nbconvert_exporter": "python",
   "pygments_lexer": "ipython3",
   "version": "3.12.7"
  }
 },
 "nbformat": 4,
 "nbformat_minor": 2
}
