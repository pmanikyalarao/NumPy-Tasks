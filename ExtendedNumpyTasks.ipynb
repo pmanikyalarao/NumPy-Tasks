{
 "cells": [
  {
   "cell_type": "code",
   "execution_count": 2,
   "metadata": {},
   "outputs": [],
   "source": [
    "import numpy as np"
   ]
  },
  {
   "cell_type": "markdown",
   "metadata": {},
   "source": [
    "# Expanded Basic Operations"
   ]
  },
  {
   "cell_type": "code",
   "execution_count": 4,
   "metadata": {},
   "outputs": [
    {
     "data": {
      "text/plain": [
       "array([[42, 31, 48, 27],\n",
       "       [24, 39, 44, 11],\n",
       "       [31, 46, 42, 12],\n",
       "       [11, 36, 36, 47]])"
      ]
     },
     "execution_count": 4,
     "metadata": {},
     "output_type": "execute_result"
    }
   ],
   "source": [
    "#1.Create a 4x4 matrix with random integers ranging from 10 to 50.\n",
    "np.random.randint(10,50,(4,4),dtype=int)"
   ]
  },
  {
   "cell_type": "code",
   "execution_count": 6,
   "metadata": {},
   "outputs": [
    {
     "data": {
      "text/plain": [
       "array([0.        , 0.05263158, 0.10526316, 0.15789474, 0.21052632,\n",
       "       0.26315789, 0.31578947, 0.36842105, 0.42105263, 0.47368421,\n",
       "       0.52631579, 0.57894737, 0.63157895, 0.68421053, 0.73684211,\n",
       "       0.78947368, 0.84210526, 0.89473684, 0.94736842, 1.        ])"
      ]
     },
     "execution_count": 6,
     "metadata": {},
     "output_type": "execute_result"
    }
   ],
   "source": [
    "#2.Generate an array of 20 linearly spaced numbers between 0 and 1.\n",
    "np.linspace(0,1,20)"
   ]
  },
  {
   "cell_type": "code",
   "execution_count": 7,
   "metadata": {},
   "outputs": [
    {
     "data": {
      "text/plain": [
       "array([10, 34, 50, 58])"
      ]
     },
     "execution_count": 7,
     "metadata": {},
     "output_type": "execute_result"
    }
   ],
   "source": [
    "#3.Extract all numbers from an array that are greater than a given threshold (e.g., array > 5).\n",
    "arr = np.array([[10,34,5,3],\n",
    "                [50,3,58,4]])\n",
    "arr[arr>5]"
   ]
  },
  {
   "cell_type": "code",
   "execution_count": 78,
   "metadata": {},
   "outputs": [
    {
     "name": "stdout",
     "output_type": "stream",
     "text": [
      "[[1 0 1 0 1 0 1 0]\n",
      " [0 1 0 1 0 1 0 1]\n",
      " [1 0 1 0 1 0 1 0]\n",
      " [0 1 0 1 0 1 0 1]\n",
      " [1 0 1 0 1 0 1 0]\n",
      " [0 1 0 1 0 1 0 1]\n",
      " [1 0 1 0 1 0 1 0]\n",
      " [0 1 0 1 0 1 0 1]]\n"
     ]
    }
   ],
   "source": [
    "#4. Create a checkerboard pattern (8x8 matrix) with alternating 0s and 1s.\n",
    "arr = np.zeros((8,8),dtype=int)\n",
    "arr[::2,::2] = 1\n",
    "arr[1::2,1::2] = 1\n",
    "print(arr)"
   ]
  },
  {
   "cell_type": "code",
   "execution_count": 25,
   "metadata": {},
   "outputs": [
    {
     "data": {
      "text/plain": [
       "array([32,  1,  2, 63, 25,  9])"
      ]
     },
     "execution_count": 25,
     "metadata": {},
     "output_type": "execute_result"
    }
   ],
   "source": [
    "#5. Reverse an array (1D) using slicing.\n",
    "arr = np.array([9,25,63,2,1,32])\n",
    "arr[::-1]"
   ]
  },
  {
   "cell_type": "code",
   "execution_count": 41,
   "metadata": {},
   "outputs": [
    {
     "name": "stdout",
     "output_type": "stream",
     "text": [
      "[[ 2  1  4  3]\n",
      " [ 5  4  6  1]\n",
      " [ 2  7  8 10]\n",
      " [ 1  0  9  2]]\n",
      "The first occurence of the element 9 is found at row 3 and column 2\n"
     ]
    }
   ],
   "source": [
    "#6. Find the index of the first occurrence of a value in an array.\n",
    "arr = np.array([[2, 1, 4, 3],\n",
    "                [5, 4, 6, 1],\n",
    "                [2, 7, 8, 10],\n",
    "                [1, 0, 9, 2]])\n",
    "print(arr)\n",
    "n = 9\n",
    "newarr = np.where(arr == n)\n",
    "if newarr[0].size>0:\n",
    "    print(f\"The first occurence of the element {n} is found at row {newarr[0][0]} and column {newarr[1][0]}\")\n",
    "else:\n",
    "    print(f\"The element {n} is not found.\")"
   ]
  },
  {
   "cell_type": "code",
   "execution_count": 48,
   "metadata": {},
   "outputs": [
    {
     "name": "stdout",
     "output_type": "stream",
     "text": [
      "[0 0 0 0 1 0 0 0 0 0]\n"
     ]
    }
   ],
   "source": [
    "#7. Create a 1D array of size 10, filled with zeros, and replace the fifth element with 1.\n",
    "arr=np.zeros(10,dtype=int)\n",
    "arr[4] = 1\n",
    "print(arr)"
   ]
  },
  {
   "cell_type": "code",
   "execution_count": 53,
   "metadata": {},
   "outputs": [
    {
     "name": "stdout",
     "output_type": "stream",
     "text": [
      "[[15 16 24]\n",
      " [23 23 11]\n",
      " [ 9 25 10]]\n",
      "\n",
      "[15 16 24 23 23 11  9 25 10]\n"
     ]
    }
   ],
   "source": [
    "#8. Create a 2D array of size 3x3 filled with random integers, and flatten it into a 1D array.\n",
    "arr = np.random.randint(1,31,(3,3))\n",
    "print(arr,end=\"\\n\\n\")\n",
    "print(arr.flatten())"
   ]
  },
  {
   "cell_type": "code",
   "execution_count": 75,
   "metadata": {},
   "outputs": [
    {
     "name": "stdout",
     "output_type": "stream",
     "text": [
      "[[ 1  2  3]\n",
      " [ 4  5  6]\n",
      " [ 7  8  9]\n",
      " [11 12 13]\n",
      " [14 15 16]\n",
      " [17 18 19]]\n",
      "\n",
      "[[ 1  2  3 11 12 13]\n",
      " [ 4  5  6 14 15 16]\n",
      " [ 7  8  9 17 18 19]]\n"
     ]
    }
   ],
   "source": [
    "#9. Stack two arrays of shape (2, 2) vertically and horizontally.\n",
    "arr1 = np.array([[1,2,3],\n",
    "                [4,5,6],\n",
    "                [7,8,9]])\n",
    "arr2 = np.array([[11,12,13],\n",
    "                [14,15,16],\n",
    "                [17,18,19]])\n",
    "# print(np.concatenate((a,b),axis=0))\n",
    "# print(np.concatenate((a,b),axis=1))\n",
    "print(np.vstack((arr1,arr2)),end=\"\\n\\n\")\n",
    "print(np.hstack((arr1,arr2)))"
   ]
  },
  {
   "cell_type": "code",
   "execution_count": 85,
   "metadata": {},
   "outputs": [
    {
     "name": "stdout",
     "output_type": "stream",
     "text": [
      "The unique elements in array :  [ 0  1  2  3  4  5  6  7  8  9 10]\n",
      "The count of the elements :  [1 3 3 1 2 1 1 1 1 1 1]\n"
     ]
    }
   ],
   "source": [
    "#10. Find the unique elements in an array and their counts.\n",
    "arr = np.array([[2, 1, 4, 3],\n",
    "                [5, 4, 6, 1],\n",
    "                [2, 7, 8, 10],\n",
    "                [1, 0, 9, 2]])\n",
    "data = np.unique(arr,return_counts=True)\n",
    "print(\"The unique elements in array : \",data[0])\n",
    "print(\"The count of the elements : \",data[1])"
   ]
  }
 ],
 "metadata": {
  "kernelspec": {
   "display_name": "Python 3",
   "language": "python",
   "name": "python3"
  },
  "language_info": {
   "codemirror_mode": {
    "name": "ipython",
    "version": 3
   },
   "file_extension": ".py",
   "mimetype": "text/x-python",
   "name": "python",
   "nbconvert_exporter": "python",
   "pygments_lexer": "ipython3",
   "version": "3.12.7"
  }
 },
 "nbformat": 4,
 "nbformat_minor": 2
}
